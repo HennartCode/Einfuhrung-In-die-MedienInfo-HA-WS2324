{
 "cells": [
  {
   "cell_type": "markdown",
   "metadata": {},
   "source": [
    "# Tutorium 3\n",
    "## Python Intro III\n",
    "\n",
    "### Lernziele:\n",
    "- Weiteres zum Plotten mit ```matplotlib```\n",
    "- List Comprehension\n",
    "- ```numpy``` Array Broadcasting-Funktionalitäten\n",
    "- Selbstständige Problemlösung durch Internetrecherche"
   ]
  },
  {
   "cell_type": "markdown",
   "metadata": {},
   "source": [
    "### S03E01 The one with plotting even more graphs"
   ]
  },
  {
   "cell_type": "code",
   "execution_count": null,
   "metadata": {},
   "outputs": [],
   "source": [
    "import matplotlib.pyplot as plt\n",
    "import numpy as np"
   ]
  },
  {
   "cell_type": "markdown",
   "metadata": {},
   "source": [
    "#### Ticks"
   ]
  },
  {
   "cell_type": "code",
   "execution_count": null,
   "metadata": {},
   "outputs": [],
   "source": [
    "# Wir wollen die relative Häufigkeit der Buchstaben in deutschsprachigen Texten graphisch darstellen, dafür haben wir eine Liste mit Daten.\n",
    "relative_frequencies_letters = [6.51, 1.89, 3.06, 5.08, 17.4, 1.66, 3.01, 4.76, 7.55, 0.27, 1.21, 3.44, 2.53, 9.78, 2.51, 0.79, 0.02, 7, 7.27, 0.31, 6.15, 4.35, 0.67, 1.89, 0.03, 0.04, 1.13]\n",
    "letters = ['a','b','c','d','e','f','g','h','i','j','k','l','m','n','o','p','q','r','s','ß','t','u','v','w','x','y','z']\n",
    "\n",
    "# Erst einmal das Grundgerüst des Plots...\n",
    "fig, ax = plt.subplots(2, figsize=(9, 4))\n",
    "ax[0].set_title(\"Verschiedene Wege, die Achsen zu beschriften\")\n",
    "ax[1].set_ylabel(\"Relative Häufigkeit in %\")\n",
    "ax[1].set_xlabel(\"Buchstaben des Alphabets (und ß)\")\n",
    "\n",
    "plt.show()"
   ]
  },
  {
   "cell_type": "markdown",
   "metadata": {},
   "source": [
    "#### Andere Plot-Varianten\n",
    "Weitere Plots mit Beispielen sind [hier](https://matplotlib.org/stable/tutorials/introductory/sample_plots.html#sphx-glr-tutorials-introductory-sample-plots-py) aufgelistet."
   ]
  },
  {
   "cell_type": "code",
   "execution_count": null,
   "metadata": {},
   "outputs": [],
   "source": [
    "# Wir können auch andere Arten von Plots nutzen!\n",
    "fig, ax = plt.subplots(2, figsize=(9, 8))\n",
    "\n",
    "# Stem Plot - gut geeignet, um sich diskrete Werte, z.B. Audiosamples zu visualisieren\n",
    "ax[0].set_title(\"Stem Plot\")\n",
    "\n",
    "# Logarithmische Achse - sinnvoll, um einen großen Wertebereich übersichtlich darzustellen, zum Beispiel bei einem Frequenzspektrum sehr hilfreich!\n",
    "# https://xkcd.com/1162\n",
    "ax[1].set_title(\"Logarithmische x-Achse\")\n",
    "\n",
    "plt.show()"
   ]
  },
  {
   "cell_type": "markdown",
   "metadata": {},
   "source": [
    "#### 3D-Plots\n",
    "Eine Übersicht mit verschiedenen 3D-Plots ist auch [hier](https://matplotlib.org/stable/tutorials/toolkits/mplot3d.html) zu finden."
   ]
  },
  {
   "cell_type": "markdown",
   "metadata": {},
   "source": [
    "#### Aufgabe 1 - Figuren plotten\n",
    "Plotten Sie verschiedene geometrische Figuren in 3D. Probieren Sie sich aus! Versuchen Sie sich an folgenden Figuren:\n",
    "-\tQuader\n",
    "-\tHaus\n",
    "\n",
    "Recherchieren Sie, wie man Farbe und Darstellung der Linien verändern kann."
   ]
  },
  {
   "cell_type": "code",
   "execution_count": null,
   "metadata": {},
   "outputs": [],
   "source": [
    "#Quader (im Video erklärt)\n",
    "\n",
    "# Wir definieren die einzelnen Eckpunkt-Koordinaten in so einer Reihenfolge, dass ein Quader gezeichnet wird\n",
    "x = []\n",
    "y = []\n",
    "z = []\n",
    "\n",
    "fig = plt.figure()\n",
    "\n",
    "\n",
    "# Title, Labels und Ticks werden hier definiert\n",
    "ax.set_title(\"Ein 3D-Quader-Plot\")\n",
    "ax.set_xlabel(\"x\")\n",
    "ax.set_ylabel(\"y\")\n",
    "ax.set_zlabel(\"z\")\n",
    "ax.set_xticks(range(0,3,1))\n",
    "ax.set_yticks(range(0,3,1))\n",
    "ax.set_zticks(range(0,3,1))\n"
   ]
  },
  {
   "cell_type": "markdown",
   "metadata": {},
   "source": [
    "#### Mehrdimensionale Funktionen plotten"
   ]
  },
  {
   "cell_type": "code",
   "execution_count": null,
   "metadata": {},
   "outputs": [],
   "source": [
    "# Jetzt plotten wir eine mathematische Funktion mit zwei Variablen (x und y) in 3D\n",
    "\n",
    "\n",
    "# Title, Labels, Ticks...\n",
    "ax.set_title(\"Eine mathematische Funktion mit zwei Variablen im 3D-Plot\")\n",
    "ax.set_xlabel(\"x\")\n",
    "ax.set_ylabel(\"y\")\n",
    "ax.set_zlabel(\"z\")\n",
    "ax.set_xticks(range(-1,2,1))\n",
    "ax.set_yticks(range(-1,2,1))\n",
    "\n",
    "z = []\n",
    "\n",
    "x = []\n",
    "\n",
    "y = []\n",
    "\n",
    "plt.show()"
   ]
  },
  {
   "cell_type": "markdown",
   "metadata": {},
   "source": [
    "### S03E02 The one with list comprehension"
   ]
  },
  {
   "cell_type": "markdown",
   "metadata": {},
   "source": [
    "### Aufgabe 2 - Module filtern\n",
    "Suchen sie aus der vorgegebenen Liste der gemeinsamen Pflichtmodule aus den Studiengängen Medieninformatik und -technik diejenigen raus...\n",
    "\n",
    "- ...welche mehr als 6 ECTS haben\n",
    "\n",
    "- ...welche im Wintersemester stattfinden\n",
    "\n",
    "Nutzen Sie dafür List Comprehension."
   ]
  },
  {
   "cell_type": "code",
   "execution_count": null,
   "metadata": {},
   "outputs": [],
   "source": [
    "pflichtmodule = [(\"AnaLina\", 12, \"WiSe + SoSe\"), (\"IntroProg\", 6, \"WiSe\"),(\"MInf\", 6, \"WiSe\"), (\"Ana2\", 9, \"WiSe + SoSe\"), (\"AlgoDat\", 6, \"SoSe\"), (\"Medienerstellung\", 5, \"SoSe\"), (\"DigiSys\", 6, \"SoSe\"), (\"ITPDG\", 6, \"WiSe + SoSe\"), (\"ROrg\", 6, \"WiSe\"), (\"Webtech\", 6, \"WiSe\"), (\"RnvS\", 6, \"WiSe\"), (\"SuS\", 6, \"WiSe\"), (\"Medienprojekt\", 10, \"WiSe + SoSe\")]\n",
    "\n",
    "module_viele_ects_clike = []\n",
    "\n",
    "print(\"Ergebnis \\\"C-Style\\\":\\nModule, welche mehr als 6 ETCS haben:\\n\", module_viele_ects_clike, \"\\n\")\n",
    "\n",
    "\n",
    "# Nach ECTS filtern\n",
    "module_viele_ects = []\n",
    "\n",
    "print(\"Ergebnis List Comprehension:\\nModule, welche mehr als 6 ETCS haben:\\n\", module_viele_ects, \"\\n\")\n",
    "\n",
    "# Nach Wintersemester filtern\n",
    "module_wintersemester = []\n",
    "\n",
    "print(\"Module, welche im Wintersemester stattfinden:\\n\", module_wintersemester)\n"
   ]
  },
  {
   "cell_type": "markdown",
   "metadata": {},
   "source": [
    "### S03E03 The one with array broadcasting"
   ]
  },
  {
   "cell_type": "markdown",
   "metadata": {},
   "source": [
    "Falls nach dieser Folge noch Unklarheiten zum Array Broadcasting bestehen, ist [hier](https://youtu.be/oG1t3qlzq14) noch ein ausfürliches Erklärungsvideo verlinkt."
   ]
  },
  {
   "cell_type": "code",
   "execution_count": null,
   "metadata": {},
   "outputs": [],
   "source": [
    "#  Array Broadcasting wird automatisch von numpy genutzt, um Arrays mit unterschiedlichen Dimensionen elementweise zu verrechen.\n",
    "\n",
    "a = np.array([[0], [1], [2]])\n",
    "b = np.array([[3, 4, 5]])\n",
    "\n",
    "print(\"Shape von Array a:\", a.shape, \"->\", a.shape[0], \"Zeilen,\", a.shape[1], \"Spalten\")\n",
    "print(\"Shape von Array b:\", b.shape, \"->\", b.shape[0], \"Zeilen,\", b.shape[1], \"Spalten\")\n",
    "\n",
    "# Eigentlich sollte eine elementweise Addition hier nicht funktionieren, oder? Doch!\n",
    "# Was ist das Ergebnis einer Addition beider Arrays?\n",
    "\n",
    "print(\"\\na+b ergibt:\\n\", a+b)\n",
    "print(\"\\nShape von a+b:\", (a+b).shape, \"->\", (a+b).shape[0], \"Zeilen,\", (a+b).shape[1], \"Spalten\")\n",
    "\n",
    "# Was wurde getan?\n",
    "# Die beiden Arrays wurden jeweils um die eigene kürzere Achse dreimal wiederholt, um mit der Dimension des jeweils anderen Arrays zu matchen.\n",
    "# Was dann für die Berechnung (mathematisch betrachtet) getan wurde, ist die Addition zweier (3, 3) Arrays.\n",
    "# Das Ergebnis ist identisch mit\n",
    "\n",
    "res = np.array([[0, 0, 0],\n",
    "                [1, 1, 1],\n",
    "                [2, 2, 2]]) + np.array([[3, 4, 5],\n",
    "                                        [3, 4, 5],\n",
    "                                        [3, 4, 5]])\n",
    "print(\"\\nErgebnis manuelle Erweiterung der Arrays:\\n\", res)"
   ]
  },
  {
   "cell_type": "code",
   "execution_count": null,
   "metadata": {},
   "outputs": [],
   "source": [
    "# Dieses Prinzip funktioniert auch bei Arrays mit höheren Dimensionen.\n",
    "\n",
    "c = np.array([[[1],[2],[3]],[[-1],[-2],[-3]]])\n",
    "d = np.array([[[10, 20],[30, 40],[50, 60]]])\n",
    "\n",
    "print(\"Shape von Array c:\", c.shape, \"->\", c.shape[0], \"\\\"Schichten\\\",\", c.shape[1], \"Zeilen,\", c.shape[2], \"Spalten\")\n",
    "print(\"Shape von Array d:\", d.shape, \"->\", d.shape[0], \"\\\"Schichten\\\",\", d.shape[1], \"Zeilen,\", d.shape[2], \"Spalten\")\n",
    "\n",
    "print(\"\\nc*d ergibt:\\n\", c*d)\n",
    "print(\"\\nShape von c+d:\", (c*d).shape, \"->\", (c*d).shape[0], \"\\\"Schichten\\\",\", (c*d).shape[1], \"Zeilen,\", (c*d).shape[2], \"Spalten\")\n"
   ]
  },
  {
   "cell_type": "code",
   "execution_count": null,
   "metadata": {},
   "outputs": [],
   "source": [
    "# Dies klappt allerdings nur unter bestimmten Bedingungen. Es werden die Shapes der beiden Operanden (Arrays) verglichen.\n",
    "# Dabei wird bei diesen von rechts (also \"innen\") angefangen und nach links hin verglichen. Zwei Dimensionen sind kompatibel, wenn:\n",
    "# Sie die gleiche Größe haben oder eine der Dimensionen 1 ist.\n",
    "\n",
    "# Für kompatible Dimensionen, siehe die vorherigen Zellen\n",
    "\n",
    "# Hier ein Beispiel zweier inkompatibler Arrays.\n",
    "e = np.array([[1], [1], [1]])\n",
    "f = np.array([[2], [2],])\n",
    "\n",
    "print(\"Shape von Array e:\", e.shape, \"->\", e.shape[0], \"Zeilen,\", e.shape[1], \"Spalten\")\n",
    "print(\"Shape von Array f:\", f.shape, \"->\", f.shape[0], \"Zeilen,\", f.shape[1], \"Spalten\")\n",
    "try:\n",
    "    e-f\n",
    "except:\n",
    "    print(\"\\nFehler: Das hat nicht funktioniert, da die ersten Dimensionen (\",e.shape[0],\"und\",f.shape[0],\") inkompatibel sind.\")"
   ]
  },
  {
   "cell_type": "code",
   "execution_count": null,
   "metadata": {},
   "outputs": [],
   "source": [
    "# Hat ein Array weniger Dimensionen als das andere, stellt das kein Problem dar, diese fehlenden Dimensionen können als Shape 1 (also mit nur einem Element (dem Array selber) befüllt) angesehen werden.\n",
    "g = np.array([[[1,2],[3,4]],[[5,6],[7,8]]])\n",
    "h = np.array([[0.5, 0.25],[0.125, 0.0625]])\n",
    "\n",
    "print(\"Shape von Array g:\", g.shape, \"->\", g.shape[0], \"\\\"Schichten\\\"\", g.shape[1], \"Zeilen,\", g.shape[2], \"Spalten\")\n",
    "print(\"Shape von Array h:   \", h.shape, \"->\", h.shape[0], \"Zeilen,\", h.shape[1], \"Spalten\")\n",
    "\n",
    "print(\"\\ng/h ergibt:\\n\", g/h)\n",
    "print(\"\\nShape von g/h:\", (g/h).shape, \"->\", (g/h).shape[0], \"\\\"Schichten\\\",\", (g/h).shape[1], \"Zeilen,\", (g/h).shape[2], \"Spalten\")"
   ]
  },
  {
   "cell_type": "markdown",
   "metadata": {},
   "source": [
    "### Aufgabe 3 - Arrays verrechnen\n",
    "Gegeben ist ein 2D-Array mit Zahlenwerten. Berechne für jedes Element des Arrays den Kehrwert, die Quadratwurzel und die Quadratsumme und gebe alles in einem 3D-Array zurück.\n",
    "Nutzen Sie dafür Array Broadcasting."
   ]
  },
  {
   "cell_type": "code",
   "execution_count": null,
   "metadata": {},
   "outputs": [],
   "source": [
    "# values enthält die vorgegebenen Zahlenwerte\n",
    "values = np.arange(1, 7)\n",
    "values = values.reshape(2, 3)\n",
    "\n",
    "print(\"values:\\n\",values)\n",
    "print(\"\\nShape von Array values:\", values.shape)\n",
    "\n",
    "power = []\n",
    "print(\"\\nShape von Array power:\", power.shape)\n",
    "\n",
    "res = []\n",
    "\n",
    "print(\"\\nvalues mit power verrechnet ergibt:\\n\",res)\n",
    "print(\"\\nShape von Array res:\",res.shape)"
   ]
  },
  {
   "cell_type": "markdown",
   "metadata": {},
   "source": [
    "### S03E04 The one where you learn to help yourself"
   ]
  },
  {
   "cell_type": "code",
   "execution_count": null,
   "metadata": {},
   "outputs": [],
   "source": [
    "# Hypothetische Aufgabe: Wir sollen ein Array sortieren\n",
    "array_unsorted = (np.random.rand(20)*100).astype(int)\n",
    "print(\"Unsorted array:\",array_unsorted)\n",
    "\n",
    "array_sorted = []\n",
    "print(\"Sorted array:\",array_sorted)"
   ]
  },
  {
   "cell_type": "markdown",
   "metadata": {},
   "source": [
    "Im echten Leben, anderen Modulen, sowie auch den Hausaufgaben in diesem Modul müssen wir Lösungen selbstständig durch Internet-Recherche finden\n",
    "- ...durch eine gezielte Frage in die Suchmaschine des Vertrauens\n",
    "- ...beim Durchstöbern der Dokumentationen: [Python](https://www.python.org/doc/), [```numpy```](https://numpy.org/doc/stable/index.html), [```scipy```](https://docs.scipy.org/doc/scipy/reference/), [```matplotlib```](https://matplotlib.org/stable/contents.html)\n",
    "- ...mit Hilfe in Foren wie [Stackoverflow](https://stackoverflow.com/)\n",
    "\n",
    "Zudem kann man natürlich auch andere Mitstudierende fragen\n",
    "- Gegenseitige Hilfe ist super\n",
    "- Hausaufgaben kopieren/abschreiben ist aber nicht okay!"
   ]
  }
 ],
 "metadata": {
  "language_info": {
   "codemirror_mode": {
    "name": "ipython",
    "version": 3
   },
   "file_extension": ".py",
   "mimetype": "text/x-python",
   "name": "python",
   "nbconvert_exporter": "python",
   "pygments_lexer": "ipython3",
   "version": "3.10.5"
  },
  "orig_nbformat": 4,
  "vscode": {
   "interpreter": {
    "hash": "1059f7055a6155c4751af200533271bd484fe16419cdd1b45f80e9df5403fa12"
   }
  }
 },
 "nbformat": 4,
 "nbformat_minor": 2
}

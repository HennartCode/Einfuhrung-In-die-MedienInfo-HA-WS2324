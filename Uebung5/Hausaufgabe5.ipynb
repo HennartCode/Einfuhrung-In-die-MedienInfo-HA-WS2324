{
 "cells": [
  {
   "cell_type": "markdown",
   "metadata": {},
   "source": [
    "# Hausaufgabe X\n",
    "> *Abgabe bis 02.12.2022 um 23:59*"
   ]
  },
  {
   "cell_type": "markdown",
   "metadata": {},
   "source": [
    "### Aufgabe 1 *(55 Punkte)*"
   ]
  },
  {
   "cell_type": "markdown",
   "metadata": {},
   "source": [
    "#### a) Fouriertransformation darstellen *(5 Punkte)*\n",
    "Verändert den Code aus der Tutoriumsaufgabe (zu finden in ``Tutorium5 Mitschrift.ipynb``) so, dass das Signal im Frequenzbereich dargestellt wird und im Plot nur noch positive Frquenzen dargestellt werden, d.h. dass das Spektrum nicht mehr gespiegelt wird. Achtet auf die korrekte Achsenbeschriftung."
   ]
  },
  {
   "cell_type": "code",
   "execution_count": 156,
   "metadata": {},
   "outputs": [],
   "source": [
    "# Todo\n",
    "\n",
    "# Tipp: Kopiert den relevanten Teil des Codes aus der Vorlage und fügt ihn hier ein.\n",
    "#       Dann könnt ihr ihn so anpassen, dass die Frequenzspiegelung entfernt wird.\n",
    "#       Lasst alle Teile weg, die nur für das Signal im Zeitbereich gebraucht werden."
   ]
  },
  {
   "cell_type": "markdown",
   "metadata": {},
   "source": [
    "#### b) Rücktransformation *(50 Punkte)*\n",
    "Transformiert mithilfe der inversen Fouriertransformation ein gegebenes Signal zurück in den Zeitbereich. Geht dabei wie folgt vor:\n",
    "1. Benutzt die vorgegebene Funktion ``getGeheimnisData`` um das zu transformierende Signal aus der Datei ``geheimnis.xyz`` auszulesen. Das Ergebnis ist das Signal im Frequenzbereich.\n",
    "2. Transformiert das eingelesene Signal zurück in den Zeitbereich mit der Funktion ``ifft`` aus dem Paket ``scipy.fft``. Dieses Signal beinhaltet komplexe Werte, benutzt für die weiteren Aufgaben nur den Realteil.\n",
    "3. Speichert das zurücktransformierte Signal in einer Audiodatei ``geheimnis.wav``. Vergesst nicht die Signalwerte auf $[-1, 1]$ zu normieren. Probiert verschiedene Abtastraten aus, um die Abtastrate des originalen Signals zu finden.\n",
    "4. Plottet anschließend das transformierte Signal. Vergesst dabei nicht die Beschriftung des Plots mit Titel, x-Achse und y-Achse."
   ]
  },
  {
   "cell_type": "code",
   "execution_count": 157,
   "metadata": {},
   "outputs": [],
   "source": [
    "# Nötige Imports\n",
    "import numpy as np\n",
    "from scipy.io import wavfile\n",
    "from scipy.fft import fft, fftfreq, ifft\n",
    "import matplotlib.pyplot as plt\n",
    "import pickle"
   ]
  },
  {
   "cell_type": "code",
   "execution_count": 158,
   "metadata": {},
   "outputs": [],
   "source": [
    "# Diese Funktion könnt ihr dann benutzen um die xyz-Datei zu laden\n",
    "def getGeheimnisData():\n",
    "   return pickle.load(open(\"geheimnis.xyz\",\"rb\"))"
   ]
  },
  {
   "cell_type": "code",
   "execution_count": 159,
   "metadata": {},
   "outputs": [],
   "source": [
    "# TODO  2. Signal rücktransformieren\n",
    "\n",
    "werte = ifft(getGeheimnisData()).real\n",
    "werte_n = werte / np.max(np.absolute(werte))\n",
    "#werte = werte+min(werte)\n",
    "#werte -= max(werte/2)\n",
    "#werte /= max(werte)\n"
   ]
  },
  {
   "cell_type": "code",
   "execution_count": 160,
   "metadata": {},
   "outputs": [],
   "source": [
    "# TODO 3. Speichern\n",
    "wavfile.write(\"Geheimnis.wav\",44100,werte_n)\n",
    "\n",
    "# Tipp: Überlegt, welche Frequenz üblicherweise für Tonaufnahmen benutzt wird:\n",
    "#       Um zu überprüfen, ob es geklappt hat, könnt ihr die Datei einfach anhören und schauen ob sie funktioniert.\n",
    "#\n",
    "#       !!!\n",
    "#        Wenn es nicht funktioniert, benutzt einen anderen Player (z.B. VLC Media Player).\n",
    "#        Manche Player (z.B. von Windows) können die entstehende .wav-Datei nicht öffnen.\n",
    "#       !!! "
   ]
  },
  {
   "cell_type": "code",
   "execution_count": 161,
   "metadata": {},
   "outputs": [
    {
     "data": {
      "image/png": "[encoded data removed]",
      "text/plain": [
       "<Figure size 581.66x200 with 1 Axes>"
      ]
     },
     "metadata": {},
     "output_type": "display_data"
    }
   ],
   "source": [
    "# TODO 4. Plotten\n",
    "duration = len(werte_n)/44100\n",
    "#print(duration)\n",
    "plt.figure(figsize=(duration,2))\n",
    "plt.plot(np.linspace(0, duration, len(werte_n)),werte_n)\n",
    "plt.title(\"Geheinnis.wav\")\n",
    "plt.xlabel(\"Sekunden\")\n",
    "plt.ylabel(\"Amplitude Normalisiert\")\n",
    "plt.show()\n",
    "\n",
    "# Tipp: Für die Zeitachse müsst ihr herausfinden, wie lang die Datei eigentlich genau ist (siehe Tutorium)"
   ]
  },
  {
   "cell_type": "markdown",
   "metadata": {},
   "source": [
    "### Aufgabe 2 *(40 Punkte)*"
   ]
  },
  {
   "cell_type": "markdown",
   "metadata": {},
   "source": [
    "Schreibt eine Python Funktion, die die Dateigröße einer ``.wav``-Datei berechnet. Als Parameter sollen der Funktion beim Funktionsaufruf folgende Werte übergeben werden:\n",
    "- Auflösung (Bittiefe in Bits)\n",
    "- Abtastrate (in Hz)\n",
    "- Anzahl der Kanäle\n",
    "- Dauer des Signals (in Sekunden)\n",
    "\n",
    "Die Funktion gibt den Wert in **Mebibyte** auf **drei Nachkommastellen** gerundet zurück.\n",
    "\n",
    "Strukturiert euer Programm als Dialogsystem, indem ihr die Funktionen ``input()`` und ``print()`` verwendet um die oben genannten Parameter abzufragen. Beachtet dabei folgendes:\n",
    "- Das Dialogsystem soll immer wieder von vorne beginnen, nachdem eine Rechnung durchgeführt und ausgegeben wurde.\n",
    "- Nach jedem Durchlauf des Dialogsystems soll der Nutzer gefragt werden, ob es der Programm beenden möchte (abhängig von der Antwort geht es entweder von vorne los, oder das Programm endet).\n",
    "- Bei der Ausgabe eines Ergebnisses sollen die Parameter mit ausgegeben werden."
   ]
  },
  {
   "cell_type": "markdown",
   "metadata": {},
   "source": [
    "Die Ausgabe des fertigen Programmes könnte beispielshaft so aussehen:\n",
    "```\n",
    "Anzahl der Kanäle:  2\n",
    "Länge in Sekunden:  10\n",
    "Abtastrate in Hz:   41000\n",
    "Bits pro Sample:    16\n",
    "Die Datei wird 1.564 MebiBytes groß sein.\n",
    "```"
   ]
  },
  {
   "cell_type": "code",
   "execution_count": 170,
   "metadata": {},
   "outputs": [
    {
     "name": "stdout",
     "output_type": "stream",
     "text": [
      "1.56402587890625\n"
     ]
    }
   ],
   "source": [
    "def calculate_file_size(resolution, sample_rate, channel_count, length):\n",
    "   # Todo: Dateigröße berechnen\n",
    "   return (channel_count*length*sample_rate*resolution)/8/(2**20)\n",
    "   return (channel_count*length*sample_rate*resolution)/(8.389*10**6)\n",
    "\n",
    "print(calculate_file_size(16,41000,2,10))"
   ]
  },
  {
   "cell_type": "code",
   "execution_count": 163,
   "metadata": {},
   "outputs": [],
   "source": [
    "# TODO: Dialogsystem implementieren\n"
   ]
  },
  {
   "cell_type": "markdown",
   "metadata": {},
   "source": [
    "### Aufgabe 3 *(5 Punkte)*"
   ]
  },
  {
   "cell_type": "markdown",
   "metadata": {},
   "source": [
    "Weshalb ist eine Audio-Datei tatsächlich immer etwas größer als sie von den betrachteten Parametern her sein müsste? Schreibt eure Antwort in das Feld unterhalb."
   ]
  },
  {
   "cell_type": "markdown",
   "metadata": {},
   "source": [
    "Antwort:"
   ]
  }
 ],
 "metadata": {
  "kernelspec": {
   "display_name": "Python 3",
   "language": "python",
   "name": "python3"
  },
  "language_info": {
   "codemirror_mode": {
    "name": "ipython",
    "version": 3
   },
   "file_extension": ".py",
   "mimetype": "text/x-python",
   "name": "python",
   "nbconvert_exporter": "python",
   "pygments_lexer": "ipython3",
   "version": "3.12.0"
  },
  "orig_nbformat": 4
 },
 "nbformat": 4,
 "nbformat_minor": 2
}

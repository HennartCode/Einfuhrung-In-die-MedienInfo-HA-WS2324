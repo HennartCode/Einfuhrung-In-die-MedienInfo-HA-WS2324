{
 "cells": [
  {
   "cell_type": "markdown",
   "metadata": {},
   "source": [
    "# Tutorium 5\n",
    "## Fouriertransformation\n",
    "\n",
    "#### Lernziele:\n",
    "Nach dieser Übung wisst iher:\n",
    "- was Prinzip einer Fourierreihe ist\n",
    "- wofür man solche Reihen anwendet\n",
    "- wie ihr selbst Signale in Python transformieren und im Frequenzbereich manipulieren könnt"
   ]
  },
  {
   "cell_type": "markdown",
   "metadata": {},
   "source": [
    "### S05E01 The one with Fourier Series Theory"
   ]
  },
  {
   "cell_type": "markdown",
   "metadata": {},
   "source": [
    "> siehe Präsentationsfolien"
   ]
  },
  {
   "cell_type": "markdown",
   "metadata": {},
   "source": [
    "### S05E02 The one with plotting frequencies"
   ]
  },
  {
   "cell_type": "markdown",
   "metadata": {},
   "source": [
    "Erstellen Sie ein Python Skript, das eine Audiodatei einliest und im Zeitbereich und Frequenzbereich darstellt. Nutzen Sie für die Umwandlung des Signals in den Frequenzbereich die Funktionen ``fft()`` und ``fftfreq()`` aus dem Paket ``scipy.fft``."
   ]
  },
  {
   "cell_type": "code",
   "execution_count": null,
   "metadata": {},
   "outputs": [],
   "source": [
    "# Pakete importieren\n",
    "import numpy as np\n",
    "import scipy.io.wavfile as wavfile\n",
    "from scipy.fft import fft, fftfreq\n",
    "import matplotlib.pyplot as plt"
   ]
  },
  {
   "cell_type": "markdown",
   "metadata": {},
   "source": [
    "#### Audio importieren"
   ]
  },
  {
   "cell_type": "code",
   "execution_count": null,
   "metadata": {},
   "outputs": [],
   "source": []
  },
  {
   "cell_type": "markdown",
   "metadata": {},
   "source": [
    "#### Fouriertransformation durchführen\n",
    "- Berechnen Sie mit ``fft()`` die *Fast Fourier Transform* des Signals\n",
    "- Wandeln Sie das Ergebnis in reelle Werte um"
   ]
  },
  {
   "cell_type": "code",
   "execution_count": null,
   "metadata": {},
   "outputs": [],
   "source": []
  },
  {
   "cell_type": "markdown",
   "metadata": {},
   "source": [
    "Was bedeuten diese Werte?\n",
    "- Jedes Element von ``fourier_result`` kann einer Frequenz zugeordnet werden\n",
    "- ``fourier_result`` enthält also die Amplituden der Frequenzen (die wir gleich noch berechnen werden)\n",
    "\n",
    "Wir beobachten: Die Listen hören gleich auf, wie sie anfangen ``->`` sind in der Mitte gespiegelt\n",
    "- Fouriertransformation gibt uns Werte für \"positive\" und \"negative\" Frequenzen zurück\n",
    "- Diese sind für Frequenzen mit dem gleichen Betrag immer gleich (d.h. Amplitude von ``-f`` ist immer gleich Amplitude von ``f``)"
   ]
  },
  {
   "cell_type": "markdown",
   "metadata": {},
   "source": [
    "#### Vorkommenden Frequenzen mit ``fftfreq()``"
   ]
  },
  {
   "cell_type": "code",
   "execution_count": null,
   "metadata": {},
   "outputs": [],
   "source": []
  },
  {
   "cell_type": "markdown",
   "metadata": {},
   "source": [
    "Wir beobachten:\n",
    "- Auch hier sind die Werte gespiegelt (und zusätzlich im Vorzeichen umgedreht).\n",
    "- Das passt zu den gespiegelten Amplitudenwerten (da bspw. ``f = 0.1`` die selbe Amplitude bekommen soll wie ``f = -0.1``).\n",
    "- Die ``0`` am Anfang des Arrays ist nicht gespiegelt, da es kein positives und negatives ``0`` gibt."
   ]
  },
  {
   "cell_type": "markdown",
   "metadata": {},
   "source": [
    "#### Plotten im Zeitbereich"
   ]
  },
  {
   "cell_type": "code",
   "execution_count": null,
   "metadata": {},
   "outputs": [],
   "source": []
  },
  {
   "cell_type": "markdown",
   "metadata": {},
   "source": [
    "#### Plotten im Frequenzbereich"
   ]
  },
  {
   "cell_type": "code",
   "execution_count": null,
   "metadata": {},
   "outputs": [],
   "source": []
  }
 ],
 "metadata": {
  "language_info": {
   "name": "python",
   "version": "3.10.5"
  },
  "orig_nbformat": 4,
  "vscode": {
   "interpreter": {
    "hash": "c56527485b7c9dd36c8c8808345694ae9d0a642c0f00dfb6356f9a65494ceb50"
   }
  }
 },
 "nbformat": 4,
 "nbformat_minor": 2
}

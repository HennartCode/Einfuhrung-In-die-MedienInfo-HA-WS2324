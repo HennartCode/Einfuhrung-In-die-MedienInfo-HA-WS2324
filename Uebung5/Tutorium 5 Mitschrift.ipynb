{
 "cells": [
  {
   "cell_type": "markdown",
   "metadata": {},
   "source": [
    "# Tutorium 5\n",
    "## Fouriertransformation\n",
    "\n",
    "#### Lernziele:\n",
    "Nach dieser Übung wisst iher:\n",
    "- was Prinzip einer Fourierreihe ist\n",
    "- wofür man solche Reihen anwendet\n",
    "- wie ihr selbst Signale in Python transformieren und im Frequenzbereich manipulieren könnt"
   ]
  },
  {
   "cell_type": "markdown",
   "metadata": {},
   "source": [
    "### S05E01 The one with Fourier Series Theory"
   ]
  },
  {
   "cell_type": "markdown",
   "metadata": {},
   "source": [
    "> siehe Präsentationsfolien"
   ]
  },
  {
   "cell_type": "markdown",
   "metadata": {},
   "source": [
    "### S05E02 The one with plotting frequencies"
   ]
  },
  {
   "cell_type": "markdown",
   "metadata": {},
   "source": [
    "Erstellen Sie ein Python Skript, das eine Audiodatei einliest und im Zeitbereich und Frequenzbereich darstellt. Nutzen Sie für die Umwandlung des Signals in den Frequenzbereich die Funktionen ``fft()`` und ``fftfreq()`` aus dem Paket ``scipy.fft``."
   ]
  },
  {
   "cell_type": "code",
   "execution_count": null,
   "metadata": {},
   "outputs": [],
   "source": [
    "# Pakete importieren\n",
    "import numpy as np\n",
    "import scipy.io.wavfile as wavfile\n",
    "from scipy.fft import fft, fftfreq\n",
    "import matplotlib.pyplot as plt"
   ]
  },
  {
   "cell_type": "markdown",
   "metadata": {},
   "source": [
    "#### Audio importieren"
   ]
  },
  {
   "cell_type": "code",
   "execution_count": null,
   "metadata": {},
   "outputs": [],
   "source": [
    "wav_filename = \"music.wav\"\n",
    "\n",
    "# Hier lesen wir die Datei ein und erhalten \n",
    "# 1. sample_rate: Die Anzahl an Abtastungen pro Sekunde (d.h. wie viele Abtastwerte aus data machen 1 Sekunde Audio aus)\n",
    "# 2. data:        Die einzelnen Abtastwerte\n",
    "sample_rate, data = wavfile.read(wav_filename)\n",
    "\n",
    "print(f\"Abtastrate: {sample_rate} Werte/s  |  Abgetastete Werte: {len(data)}\")\n",
    "print(f\"Damit haben wir genau {len(data) / sample_rate} Sekunden Audio.\")"
   ]
  },
  {
   "cell_type": "markdown",
   "metadata": {},
   "source": [
    "#### Fouriertransformation durchführen\n",
    "- Berechnen Sie mit ``fft()`` die *Fast Fourier Transform* des Signals\n",
    "- Wandeln Sie das Ergebnis in reelle Werte um"
   ]
  },
  {
   "cell_type": "code",
   "execution_count": null,
   "metadata": {},
   "outputs": [],
   "source": [
    "# Hier berechnen wir das Ergebnis der diskreten Fouriertransformation.\n",
    "# Das Ergebnis ist ein Array mit komplexen Zahlen.\n",
    "# Die Realteile sind die Amplituden und die Imaginärteile sind die Phasenverschiebungen der Frequenzen.\n",
    "fourier_result_complex = fft(data)\n",
    "\n",
    "# Weil wir nur die Amplituden brauchen, nehmen wir nur den Realteil.\n",
    "# Numpy Arrays habe die Realteile in der 'real' Eigenschaft gespeichert.\n",
    "fourier_result = fourier_result_complex.real\n",
    "\n",
    "print(f\"Ergebnis der fft(...) Funktion: [{fourier_result_complex[1]}...{fourier_result_complex[-1]}]\")\n",
    "print(f\"Ergebnis der Konvertierung zu reelen Zahlen: [{fourier_result[1]}...{fourier_result[-1]}]\")"
   ]
  },
  {
   "cell_type": "markdown",
   "metadata": {},
   "source": [
    "Was bedeuten diese Werte?\n",
    "- Jedes Element von ``fourier_result`` kann einer Frequenz zugeordnet werden\n",
    "- ``fourier_result`` enthält also die Amplituden der Frequenzen (die wir gleich noch berechnen werden)\n",
    "\n",
    "Wir beobachten: Die Listen hören gleich auf, wie sie anfangen ``->`` sind in der Mitte gespiegelt\n",
    "- Fouriertransformation gibt uns Werte für \"positive\" und \"negative\" Frequenzen zurück\n",
    "- Diese sind für Frequenzen mit dem gleichen Betrag immer gleich (d.h. Amplitude von ``-f`` ist immer gleich Amplitude von ``f``)"
   ]
  },
  {
   "cell_type": "markdown",
   "metadata": {},
   "source": [
    "#### Vorkommenden Frequenzen mit ``fftfreq()``"
   ]
  },
  {
   "cell_type": "code",
   "execution_count": null,
   "metadata": {},
   "outputs": [],
   "source": [
    "# fftfreq(...) gibt die Frequenzen zu den Abtastwerten zurück.\n",
    "# Hier erhalten wir ein Array, dass für jeden Wert von fourier_result eine Frequenz hat, zu dem er gehört.\n",
    "# Das entspricht allen Frequenzen, die wir mit der Abtastrate sample_rate theoretisch abtasten könnten.\n",
    "frequencies = fftfreq(len(data), 1 / sample_rate)\n",
    "\n",
    "print(f\"Frequenzen: {frequencies[:3]}...{frequencies[-3:]}\")\n",
    "print(f\"Anzahl der Frequenzen ({len(frequencies)}) passt zur Anzahl der Amplituden ({len(fourier_result)}).\")"
   ]
  },
  {
   "cell_type": "markdown",
   "metadata": {},
   "source": [
    "Wir beobachten:\n",
    "- Auch hier sind die Werte gespiegelt (und zusätzlich im Vorzeichen umgedreht).\n",
    "- Das passt zu den gespiegelten Amplitudenwerten (da bspw. ``f = 0.1`` die selbe Amplitude bekommen soll wie ``f = -0.1``).\n",
    "- Die ``0`` am Anfang des Arrays ist nicht gespiegelt, da es kein positives und negatives ``0`` gibt."
   ]
  },
  {
   "cell_type": "markdown",
   "metadata": {},
   "source": [
    "#### Plotten im Zeitbereich"
   ]
  },
  {
   "cell_type": "code",
   "execution_count": null,
   "metadata": {},
   "outputs": [],
   "source": [
    "# Zeitbereich bedeutet:\n",
    "# - x-Achse: die Zeit zu der gemessen wird\n",
    "# - y-Achse: die gemessene Amplitude\n",
    "\n",
    "# Wir haben len(data) Messwerte und len(data)/sample_rate Sekunden Audio\n",
    "# Wir brauchen also len(data) Werte zwischen 0 und len(data)/sample_rate \n",
    "sample_count = len(data)\n",
    "audio_duration = sample_count / sample_rate\n",
    "x_values = np.linspace(0, audio_duration, sample_count)\n",
    "\n",
    "# Weil wir viele Werte auf der x-Achse haben, machen wir den Plot etwas breiter\n",
    "plt.figure(figsize=(20, 5))\n",
    "\n",
    "# Jetzt können wir auf der y-Achse die Messwerte plotten\n",
    "plt.plot(x_values, data)\n",
    "plt.title(\"Zeitbereich\")\n",
    "plt.xlabel(\"Zeit in Sekunden\")\n",
    "plt.ylabel(\"Amplitude\")\n",
    "plt.show()\n",
    "\n",
    "# Leider sind es so viele Werte sind, dass man nichts erkennen kann\n",
    "# Deshalb plotten wir noch zusätzlich die ersten 1000 Messwerte.\n",
    "# Hier kann man besser die überlagerten Sinuskurven erkennen.\n",
    "\n",
    "plt.figure(figsize=(20, 5))\n",
    "\n",
    "plt.plot(x_values[:1000], data[:1000])\n",
    "plt.title(\"Zeitbereich\")\n",
    "plt.xlabel(\"Zeit in Sekunden\")\n",
    "plt.ylabel(\"Amplitude\")\n",
    "plt.show()"
   ]
  },
  {
   "cell_type": "markdown",
   "metadata": {},
   "source": [
    "#### Plotten im Frequenzbereich"
   ]
  },
  {
   "cell_type": "code",
   "execution_count": null,
   "metadata": {},
   "outputs": [],
   "source": [
    "# Wir haben in einem vorherigen Teil, Frequenzen und die dazugehörigen Amplituden berechnet:\n",
    "# frequencies = Frequenzen\n",
    "# fourier_result = Amplituden\n",
    "\n",
    "plt.figure(figsize=(20, 5))\n",
    "\n",
    "# Jetzt müssen wir diese nur noch auf den Achsen anzeigen.\n",
    "plt.plot(frequencies, fourier_result)\n",
    "plt.title(\"Frequenzspektrum\")\n",
    "plt.ylabel(\"Amplitude\")\n",
    "plt.xlabel(\"Frequenz in Hz\")\n",
    "plt.show()"
   ]
  }
 ],
 "metadata": {
  "language_info": {
   "name": "python",
   "version": "3.10.5"
  },
  "orig_nbformat": 4,
  "vscode": {
   "interpreter": {
    "hash": "c56527485b7c9dd36c8c8808345694ae9d0a642c0f00dfb6356f9a65494ceb50"
   }
  }
 },
 "nbformat": 4,
 "nbformat_minor": 2
}

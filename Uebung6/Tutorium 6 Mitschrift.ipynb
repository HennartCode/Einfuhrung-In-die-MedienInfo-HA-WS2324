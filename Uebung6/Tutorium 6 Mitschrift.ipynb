{
 "cells": [
  {
   "cell_type": "markdown",
   "metadata": {},
   "source": [
    "# Tutorium 6\n",
    "## Signale Filtern\n"
   ]
  },
  {
   "cell_type": "code",
   "execution_count": null,
   "metadata": {},
   "outputs": [],
   "source": [
    "# Importe\n",
    "import scipy.io.wavfile as wavfile\n",
    "from scipy.fftpack import fft, ifft, fftfreq\n",
    "import matplotlib.pyplot as plt\n",
    "import numpy as np"
   ]
  },
  {
   "cell_type": "code",
   "execution_count": null,
   "metadata": {},
   "outputs": [],
   "source": [
    "# Audiosignal mit Abtastfrequenz von 44,1kHz und einer Dauer von 5 Sekunden\n",
    "fs = 44100\n",
    "t = 5\n",
    "\n",
    "# Zeitvektor erstellen\n",
    "t_vec = np.linspace(0, t, t*fs)\n",
    "\n",
    "# Sinussignal mit 1kHz erzeuen\n",
    "sinus = np.sin(2*np.pi*t_vec*1000)\n",
    "# Störsignal mit 50 Hz erzeugen\n",
    "noise = np.sin(2*np.pi*t_vec*50)\n",
    "# Signal kombinieren\n",
    "combined = sinus + noise\n",
    "\n",
    "# Kombiniertes Signal speichern\n",
    "wavfile.write(\"combined.wav\", fs, combined)\n",
    "\n",
    "# Fourier-Transformation berechnen\n",
    "sinus_fft = abs(fft(sinus))\n",
    "sinus_freqs = fftfreq(fs*t, 1/fs)\n",
    "\n",
    "noise_fft = abs(fft(noise))\n",
    "noise_freqs = fftfreq(fs*t, 1/fs)\n",
    "\n",
    "combined_fft_complex = fft(combined) # hier nochmal als komplexe Werte, um dann bei der Rücktransformation die richtige Phase zu haben\n",
    "combined_fft = abs(combined_fft_complex)\n",
    "combined_freqs = fftfreq(fs*t, 1/fs)"
   ]
  },
  {
   "cell_type": "markdown",
   "metadata": {},
   "source": [
    "### Darstellung des Nutzsignals im Zeit- und Frequenzbereich"
   ]
  },
  {
   "cell_type": "code",
   "execution_count": null,
   "metadata": {},
   "outputs": [],
   "source": [
    "plt.subplot(2,1,1)\n",
    "plt.plot(t_vec[:2000], sinus[:2000])\n",
    "plt.title(\"Nutzsignal\")\n",
    "\n",
    "plt.subplot(2,1,2)\n",
    "plt.plot(sinus_freqs[:10000], sinus_fft[:10000])\n",
    "plt.title(\"Frequenzen\")\n",
    "\n",
    "plt.subplots_adjust(hspace = 0.5)\n",
    "plt.show()"
   ]
  },
  {
   "cell_type": "markdown",
   "metadata": {},
   "source": [
    "### Darstellung des Störsignals im Zeit- und Frequenzbereich"
   ]
  },
  {
   "cell_type": "code",
   "execution_count": null,
   "metadata": {},
   "outputs": [],
   "source": [
    "# Störsignal im Zeit- und Frequenzbereich darstellen\n",
    "plt.subplot(2,1,1)\n",
    "plt.plot(t_vec[:2000], noise[:2000])\n",
    "plt.title(\"Störsignal\")\n",
    "\n",
    "plt.subplot(2,1,2)\n",
    "plt.plot(noise_freqs[:10000], noise_fft[:10000])\n",
    "plt.title(\"Frequenzen\")\n",
    "\n",
    "plt.subplots_adjust(hspace = 0.5)\n",
    "plt.show()"
   ]
  },
  {
   "cell_type": "markdown",
   "metadata": {},
   "source": [
    "### Darstellung kombiniertes Signal im Zeit und Frequenzbereich"
   ]
  },
  {
   "cell_type": "code",
   "execution_count": null,
   "metadata": {},
   "outputs": [],
   "source": [
    "# Signale darstellen\n",
    "plt.subplot(4,1,1)\n",
    "plt.plot(sinus[:2000])\n",
    "plt.title(\"Nutzsignal\")\n",
    "\n",
    "plt.subplot(4,1,2)\n",
    "plt.plot(noise[:2000])\n",
    "plt.title(\"Störsignal\")\n",
    "\n",
    "plt.subplot(4,1,3)\n",
    "plt.plot(combined[:2000])\n",
    "plt.title(\"Kombiniertes Signal\")\n",
    "\n",
    "plt.subplot(4,1,4)\n",
    "plt.plot(combined_freqs[:10000],combined_fft[:10000])\n",
    "plt.title(\"Kombiniertes Signal\")\n",
    "\n",
    "plt.subplots_adjust(hspace = 1.5)\n",
    "plt.show()"
   ]
  },
  {
   "cell_type": "markdown",
   "metadata": {},
   "source": [
    "### Störsignal filtern und Ergebnis anzeigen"
   ]
  },
  {
   "cell_type": "code",
   "execution_count": null,
   "metadata": {},
   "outputs": [],
   "source": [
    "# Störsignal Filtern (genau genommen müsste man bei den komplexen Werten auch die negative 1000 Hz Frequenz erhalten)\n",
    "combined_fft_complex[(combined_freqs != 1000)] = 0\n",
    "\n",
    "# Zurücktransformieren\n",
    "filtered = ifft(combined_fft_complex).real # hier nehmen wir deswegen nur den Realteil\n",
    "# Gefiltertes Signal speichern\n",
    "# wavfile.write(\"filtered.wav\", fs, filtered)\n",
    "\n",
    "plt.subplot(4,1,1)\n",
    "plt.plot(sinus[:2000])\n",
    "plt.title(\"Nutzsignal\")\n",
    "\n",
    "plt.subplot(4,1,2)\n",
    "plt.plot(noise[:2000])\n",
    "plt.title(\"Störsignal\")\n",
    "\n",
    "plt.subplot(4,1,3)\n",
    "plt.plot(combined[:2000])\n",
    "plt.title(\"Kombiniertes Signal\")\n",
    "\n",
    "plt.subplot(4,1,4)\n",
    "plt.plot(filtered[:2000])\n",
    "plt.title(\"Gefiltertes Signal\")\n",
    "\n",
    "plt.subplots_adjust(hspace = 1.5)\n",
    "plt.show()"
   ]
  }
 ],
 "metadata": {
  "language_info": {
   "codemirror_mode": {
    "name": "ipython",
    "version": 3
   },
   "file_extension": ".py",
   "mimetype": "text/x-python",
   "name": "python",
   "nbconvert_exporter": "python",
   "pygments_lexer": "ipython3",
   "version": "3.10.5"
  },
  "orig_nbformat": 4,
  "vscode": {
   "interpreter": {
    "hash": "26de051ba29f2982a8de78e945f0abaf191376122a1563185a90213a26c5da77"
   }
  }
 },
 "nbformat": 4,
 "nbformat_minor": 2
}

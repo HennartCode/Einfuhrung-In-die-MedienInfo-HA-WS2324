{
 "cells": [
  {
   "cell_type": "markdown",
   "metadata": {},
   "source": [
    "# Tutorium 4\n",
    "## Einführung in Signale und Abtastung\n",
    "\n",
    "> \"beep beep beeeep\"\n",
    "\n",
    "#### Lernziele:\n",
    "* grundlegendes Verständnis von Signalen\n",
    "* Abtasttheorem\n",
    "* Aliasing"
   ]
  },
  {
   "cell_type": "markdown",
   "metadata": {},
   "source": [
    "### S04E03 The One with Python and Audiofiles\n",
    "\n",
    "## Aufgabe\n",
    "\n",
    "Erstellt ein Python Skript, das eine Audiodatei einliest und im Zeitbereich darstellt. Benutzt für den Umgang mit ``.wav``-Dateien das Paket ``scipy.io.wavfile`` und für die grafische Signaldarstellung das Paket ``matplotlib.pyplot``.\n",
    "\n",
    "Geht dabei wie folgt vor:\n",
    "- Importiert mit der ``read()``-Funktion aus dem Paket ``scipy.io.wavfile`` die Audiodatei ``audio.wav``. Berechnet die Anzahl der Samples (Anzahl der Abtastwerte) und die Länge des Audiosignals in Sekunden\n",
    "- Stellt das Signal mithilfe des Pakets ``matplotlib.pyplot`` als Plot da. Dabei sollte diers folgendes umfassen: Titel, Achsenbeschriftung, Ticks (Unterteilung der x-Achse).\n",
    "- Kürzt das Audiosignal mithilfe von Python ``Slicing`` auf zwei Sekunden und normalisiert die Werte auf $[-1, 1]$. Schreibt das gekürzte Signal in eine neue Audiodatei ``audio_short.wav``. Benutzt hierfür die Funktion ``read()``-Funktion aus dem Paket ``scipy.io.wavfile``.\n"
   ]
  },
  {
   "cell_type": "code",
   "execution_count": null,
   "metadata": {},
   "outputs": [],
   "source": [
    "# import der Pakete"
   ]
  },
  {
   "cell_type": "code",
   "execution_count": null,
   "metadata": {},
   "outputs": [],
   "source": [
    "# Einlesen der Audiodatei\n",
    "\n",
    "# Berechnen der Samples und der Länge"
   ]
  },
  {
   "cell_type": "code",
   "execution_count": null,
   "metadata": {},
   "outputs": [],
   "source": [
    "# Signal plotten"
   ]
  },
  {
   "cell_type": "code",
   "execution_count": null,
   "metadata": {},
   "outputs": [],
   "source": [
    "# Signal kürzen"
   ]
  },
  {
   "cell_type": "code",
   "execution_count": null,
   "metadata": {},
   "outputs": [],
   "source": [
    "# gekürztes Signal in neue Datei schreiben"
   ]
  }
 ],
 "metadata": {
  "language_info": {
   "codemirror_mode": {
    "name": "ipython",
    "version": 3
   },
   "file_extension": ".py",
   "mimetype": "text/x-python",
   "name": "python",
   "nbconvert_exporter": "python",
   "pygments_lexer": "ipython3",
   "version": "3.10.5"
  },
  "orig_nbformat": 4,
  "vscode": {
   "interpreter": {
    "hash": "1059f7055a6155c4751af200533271bd484fe16419cdd1b45f80e9df5403fa12"
   }
  }
 },
 "nbformat": 4,
 "nbformat_minor": 2
}

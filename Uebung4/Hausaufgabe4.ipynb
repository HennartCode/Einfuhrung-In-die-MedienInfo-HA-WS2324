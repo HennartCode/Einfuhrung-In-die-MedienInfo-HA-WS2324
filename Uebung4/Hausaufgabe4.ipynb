{
 "cells": [
  {
   "cell_type": "markdown",
   "metadata": {},
   "source": [
    "# Hausaufgabe 4\n",
    "## Einführung in Signale und Abtastung\n",
    "> *Abgabe bis 24.11.2023 um 23.59*"
   ]
  },
  {
   "cell_type": "markdown",
   "metadata": {},
   "source": [
    "### Aufgabe 1 - Maskierung *(20 Punkte)*\n",
    "\n",
    "In der auditiven Wahrnehmung findet Maskierung statt:\n",
    "1. Wie kann es sein, dass ein Signal bis zu 20ms bevor das Maskiersignal auftritt schon maskiert wird?\n",
    "2. Bei einem Maskiersignal mit 1kHz und einem Pegel von 70 dB, wie groß muss der Schallpegel eines 1,5kHz Tones sein, damit er noch wahrgenommen werden kann?"
   ]
  },
  {
   "cell_type": "markdown",
   "metadata": {},
   "source": [
    " Schreibt die Antwort hier hin"
   ]
  },
  {
   "cell_type": "markdown",
   "metadata": {},
   "source": [
    "### Aufgabe 2 - Sinusüberlagerer *(60 Punkte)*\n",
    "1. Betrachtet den unten vorgegebenen Code.\n",
    "2. Vervollständigt die Funktion ``generateSinus(..)``. Dabei sind die Übergabeparameter schon vorgegeben. Die Funktion soll ein ``numpy`` array zurückgeben, welches die Audiodaten für eine Sinuswelle enthält. <br/>\n",
    "Dies könnt ihr erreichen indem ihr zuerst einen geeigneten Zeitvektor erzeugt um dann im zweiten Schritt den Wertevektor zu erzeugen und zurückzugeben.\n",
    "3. Mit der Funktion ``test()`` könnt ihr eure Implementierung testen. Die ``test``-Funktion generiert eine 5-sekündige Audiodatei in der ein 440 Hz Sinuston zu hören ist.\n",
    "4. Erzeugt eine die  C-Dur Tonleiter, in dem ihr jeweils Sinusschwingungen von 0.5 Sekunden für die unten angegebenen Frequenzen erzeugt und aneinanderhängt. Schreibt das Ergebnis in eine Datei ``tonleiter.wav``."
   ]
  },
  {
   "cell_type": "code",
   "execution_count": 4,
   "metadata": {},
   "outputs": [],
   "source": [
    "import numpy as np\n",
    "from scipy.io import wavfile\n",
    "\n",
    "tonleiter_frequenzen = [\n",
    "    523.2511306011972, # C5\n",
    "    587.3295358348151, # D5\n",
    "    659.2551138257398, # E5\n",
    "    698.4564628660078, # F5\n",
    "    783.9908719634985, # G5\n",
    "    880.0,             # A5\n",
    "    987.7666025122483, # H5\n",
    "    1046.5022612023945 # C6\n",
    "]\n",
    "\n",
    "def generateSinus(frequency, length_s, samplerate):\n",
    "    # TODO\n",
    "    return ...\n",
    "\n",
    "\n",
    "\n",
    "def test():\n",
    "    wavfile.write(\"testton.wav\", 48000, generateSinus(440, 5, 48000))\n",
    "\n",
    "# Erezugt einen Dur-Tonleiter, indem ihr jeweils 0.5 Sekunden Sinusschwingungen mit den angegebenen Frequenzen erzeugt und aneinanderhängt\n",
    "\n",
    "# Schreibt das Ergebnis in die Datei \"tonleiter.wav\"\n",
    "\n",
    "#TODO"
   ]
  },
  {
   "cell_type": "markdown",
   "metadata": {},
   "source": [
    "### Aufgabe 3 - Visuelle Wahrnehmung *(20 Punkte)*\n",
    "Auf einem Bildschirm wird ein Text gezeigt. Die lesende Person befindet sich 80cm von dem Bildschirm entfernt. Wie breit ist der Bereich, in dem man lesen kann?\n",
    "\n",
    "Gebt das Ergebnis und den Rechenweg in einer separaten PDF-Datei ab.\n"
   ]
  }
 ],
 "metadata": {
  "kernelspec": {
   "display_name": "Python 3.10.2 64-bit ('3.10.2')",
   "language": "python",
   "name": "python3"
  },
  "language_info": {
   "codemirror_mode": {
    "name": "ipython",
    "version": 3
   },
   "file_extension": ".py",
   "mimetype": "text/x-python",
   "name": "python",
   "nbconvert_exporter": "python",
   "pygments_lexer": "ipython3",
   "version": "3.10.5"
  },
  "orig_nbformat": 4,
  "vscode": {
   "interpreter": {
    "hash": "562f6bb7d8617d25b01cf9a45a45a7e25dc835eb3ca5697ea2bed226e8cc61f5"
   }
  }
 },
 "nbformat": 4,
 "nbformat_minor": 2
}

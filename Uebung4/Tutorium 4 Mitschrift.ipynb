{
 "cells": [
  {
   "cell_type": "markdown",
   "metadata": {},
   "source": [
    "# Tutorium 4\n",
    "## Einführung in Signale und Abtastung\n",
    "\n",
    "> \"beep beep beeeep\"\n",
    "\n",
    "#### Lernziele:\n",
    "* grundlegendes Verständnis von Signalen\n",
    "* Abtasttheorem\n",
    "* Aliasing"
   ]
  },
  {
   "cell_type": "markdown",
   "metadata": {},
   "source": [
    "### S04E03 The One with Python and Audiofiles\n",
    "\n",
    "## Aufgabe\n",
    "\n",
    "Erstellt ein Python Skript, das eine Audiodatei einliest und im Zeitbereich darstellt. Benutzt für den Umgang mit ``.wav``-Dateien das Paket ``scipy.io.wavfile`` und für die grafische Signaldarstellung das Paket ``matplotlib.pyplot``.\n",
    "\n",
    "Geht dabei wie folgt vor:\n",
    "- Importiert mit der ``read()``-Funktion aus dem Paket ``scipy.io.wavfile`` die Audiodatei ``audio.wav``. Berechnet die Anzahl der Samples (Anzahl der Abtastwerte) und die Länge des Audiosignals in Sekunden\n",
    "- Stellt das Signal mithilfe des Pakets ``matplotlib.pyplot`` als Plot da. Dabei sollte diers folgendes umfassen: Titel, Achsenbeschriftung, Ticks (Unterteilung der x-Achse).\n",
    "- Kürzt das Audiosignal mithilfe von Python ``Slicing`` auf zwei Sekunden und normalisiert die Werte auf $[-1, 1]$. Schreibt das gekürzte Signal in eine neue Audiodatei ``audio_short.wav``. Benutzt hierfür die Funktion ``read()``-Funktion aus dem Paket ``scipy.io.wavfile``.\n"
   ]
  },
  {
   "cell_type": "code",
   "execution_count": null,
   "metadata": {},
   "outputs": [],
   "source": [
    "# import der Pakete\n",
    "\n",
    "from scipy.io import wavfile\n",
    "import matplotlib.pyplot as plt"
   ]
  },
  {
   "cell_type": "code",
   "execution_count": null,
   "metadata": {},
   "outputs": [],
   "source": [
    "# Einlesen der Audiodatei\n",
    "file = 'audio.wav'\n",
    "sampleRate, data = wavfile.read(file)\n",
    "\n",
    "# Berechnen der Samples und der Länge\n",
    "totalSamples = len(data)\n",
    "length = totalSamples/sampleRate\n",
    "\n",
    "print(f\"{length=}\")"
   ]
  },
  {
   "cell_type": "code",
   "execution_count": null,
   "metadata": {},
   "outputs": [],
   "source": [
    "# Signal plotten\n",
    "\n",
    "plt.plot(data)\n",
    "plt.title(\"Signal Wave\")\n",
    "plt.xlabel(\"Time in Seconds\")\n",
    "plt.ylabel(\"Amplitude\")\n",
    "\n",
    "plt.xticks(\n",
    "    range(0,totalSamples, sampleRate),\n",
    "    range(0, int(length) +1)\n",
    ")\n",
    "plt.show()"
   ]
  },
  {
   "cell_type": "code",
   "execution_count": null,
   "metadata": {},
   "outputs": [],
   "source": [
    "# Signal kürzen\n",
    "\n",
    "data = data[:(2*sampleRate)]"
   ]
  },
  {
   "cell_type": "code",
   "execution_count": null,
   "metadata": {},
   "outputs": [],
   "source": [
    "# gekürztes Signal in neue Datei schreiben\n",
    "\n",
    "data = data / max(abs(data)) # normalisieren\n",
    "\n",
    "wavfile.write(\"audio_short.wav\", sampleRate, data)"
   ]
  }
 ],
 "metadata": {
  "language_info": {
   "codemirror_mode": {
    "name": "ipython",
    "version": 3
   },
   "file_extension": ".py",
   "mimetype": "text/x-python",
   "name": "python",
   "nbconvert_exporter": "python",
   "pygments_lexer": "ipython3",
   "version": "3.10.5"
  },
  "orig_nbformat": 4,
  "vscode": {
   "interpreter": {
    "hash": "1059f7055a6155c4751af200533271bd484fe16419cdd1b45f80e9df5403fa12"
   }
  }
 },
 "nbformat": 4,
 "nbformat_minor": 2
}
